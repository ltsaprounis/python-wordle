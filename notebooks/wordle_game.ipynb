{
 "cells": [
  {
   "cell_type": "code",
   "execution_count": null,
   "metadata": {},
   "outputs": [],
   "source": [
    "import numpy as np\n",
    "import pandas as pd\n",
    "import os"
   ]
  },
  {
   "cell_type": "code",
   "execution_count": null,
   "metadata": {},
   "outputs": [],
   "source": [
    "def read_word_file(path=\"5-letter-words.txt\"):\n",
    "    return pd.read_csv(path, header=None, names=[\"words\"])"
   ]
  },
  {
   "cell_type": "code",
   "execution_count": null,
   "metadata": {},
   "outputs": [],
   "source": [
    "df = read_word_file()\n",
    "df.head()"
   ]
  },
  {
   "cell_type": "code",
   "execution_count": null,
   "metadata": {},
   "outputs": [],
   "source": [
    "def pick_a_word(df):\n",
    "    return df.sample(1)[\"words\"].iloc[0]"
   ]
  },
  {
   "cell_type": "code",
   "execution_count": null,
   "metadata": {},
   "outputs": [],
   "source": [
    "word = pick_a_word(df)\n",
    "print(word)"
   ]
  },
  {
   "cell_type": "code",
   "execution_count": null,
   "metadata": {},
   "outputs": [],
   "source": [
    "def split_word(word):\n",
    "    return [i for i in word]"
   ]
  },
  {
   "cell_type": "code",
   "execution_count": null,
   "metadata": {},
   "outputs": [],
   "source": [
    "split_word(word)"
   ]
  },
  {
   "cell_type": "code",
   "execution_count": null,
   "metadata": {},
   "outputs": [],
   "source": [
    "def is_word_valid(word, df):\n",
    "    return np.any(df[\"words\"] == word)"
   ]
  },
  {
   "cell_type": "code",
   "execution_count": null,
   "metadata": {},
   "outputs": [],
   "source": [
    "def wordle_round(input_word, target_word, df):\n",
    "    if not is_word_valid(input_word, df):\n",
    "        print(\"Not a real word, go back to school!\")\n",
    "    else:\n",
    "        # find all the exact matches\n",
    "        input_list = split_word(input_word)\n",
    "        target_list = split_word(target_word)\n",
    "        output = []\n",
    "        for i in range(len(input_list)):\n",
    "            input_letter = input_list[i]\n",
    "            exact_match = None\n",
    "            partial_match = None\n",
    "            no_match = None\n",
    "            for j in range(len(target_list)):\n",
    "                target_letter = target_list[j]\n",
    "                if i==j and input_letter == target_letter:\n",
    "                    exact_match = input_letter.upper()\n",
    "                elif input_letter == target_letter:\n",
    "                    partial_match = input_letter.lower()\n",
    "                else: \n",
    "                    no_match = \"*\"\n",
    "            if exact_match is not None: \n",
    "                output.append(exact_match)\n",
    "            elif partial_match is not None:\n",
    "                output.append(partial_match)\n",
    "            else:\n",
    "                output.append(\"*\")\n",
    "        return output"
   ]
  },
  {
   "cell_type": "code",
   "execution_count": null,
   "metadata": {},
   "outputs": [],
   "source": [
    "wordle_round(\"thing\", word, df)"
   ]
  },
  {
   "cell_type": "code",
   "execution_count": null,
   "metadata": {},
   "outputs": [],
   "source": [
    "wordle_round(\"share\", \"alien\", df)"
   ]
  },
  {
   "cell_type": "code",
   "execution_count": null,
   "metadata": {},
   "outputs": [],
   "source": [
    "a = input()\n",
    "print(type(a))"
   ]
  },
  {
   "cell_type": "code",
   "execution_count": null,
   "metadata": {},
   "outputs": [],
   "source": [
    "def wordle_game(target_word, df, tries=6):\n",
    "    counter = 0\n",
    "    while counter<tries:\n",
    "        input_word = input(\"Enter a word: \")\n",
    "        word_list = wordle_round(input_word, target_word, df)\n",
    "        try:\n",
    "            counter += 1\n",
    "            print(\"\".join(word_list))\n",
    "        except TypeError:\n",
    "            pass"
   ]
  },
  {
   "cell_type": "code",
   "execution_count": null,
   "metadata": {},
   "outputs": [],
   "source": [
    "word = pick_a_word(df)\n",
    "wordle_game(word, df, tries=6)"
   ]
  },
  {
   "cell_type": "code",
   "execution_count": null,
   "metadata": {},
   "outputs": [],
   "source": [
    "word"
   ]
  },
  {
   "cell_type": "code",
   "execution_count": null,
   "metadata": {},
   "outputs": [],
   "source": []
  }
 ],
 "metadata": {
  "kernelspec": {
   "display_name": "wordle",
   "language": "python",
   "name": "wordle"
  },
  "language_info": {
   "codemirror_mode": {
    "name": "ipython",
    "version": 3
   },
   "file_extension": ".py",
   "mimetype": "text/x-python",
   "name": "python",
   "nbconvert_exporter": "python",
   "pygments_lexer": "ipython3",
   "version": "3.8.5"
  }
 },
 "nbformat": 4,
 "nbformat_minor": 4
}
